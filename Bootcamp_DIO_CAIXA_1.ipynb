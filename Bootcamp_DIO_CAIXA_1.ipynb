{
  "nbformat": 4,
  "nbformat_minor": 0,
  "metadata": {
    "colab": {
      "provenance": [],
      "authorship_tag": "ABX9TyNo22/muG9UttQIpFwNsAQR",
      "include_colab_link": true
    },
    "kernelspec": {
      "name": "python3",
      "display_name": "Python 3"
    },
    "language_info": {
      "name": "python"
    }
  },
  "cells": [
    {
      "cell_type": "markdown",
      "metadata": {
        "id": "view-in-github",
        "colab_type": "text"
      },
      "source": [
        "<a href=\"https://colab.research.google.com/github/thaiinaaalves/boot_caixa_1/blob/main/Bootcamp_DIO_CAIXA_1.ipynb\" target=\"_parent\"><img src=\"https://colab.research.google.com/assets/colab-badge.svg\" alt=\"Open In Colab\"/></a>"
      ]
    },
    {
      "cell_type": "markdown",
      "source": [
        "Projeto desenvolvido como parte do Bootcamp DIO - CAIXA: IA Generativa com Microsoft Copilot. O objetivo foi criar um vídeo com um avatar gerado por IA, que fala de forma natural a partir de um script. A plataforma D-ID foi utilizada para gerar tanto o avatar quanto a voz, demonstrando o potencial das IAs generativas em comunicação.\n",
        "\n",
        "[texto do link](https://studio.d-id.com/share?id=ea40cc8852c07c96dabd9176fa057054&utm_source=copy)"
      ],
      "metadata": {
        "id": "LuMEob7mFOkG"
      }
    }
  ]
}